{
 "cells": [
  {
   "cell_type": "markdown",
   "metadata": {},
   "source": [
    "### Obj type 3d file, only triangle and by face normal obj supported\n",
    "if Byte array selected:\n",
    "\n",
    "4 bytes: 0 as mash textured\n",
    "\n",
    "2 bytes: vector number\n",
    "\n",
    "2 bytes: face number\n",
    "\n",
    "then vector data\n",
    "\n",
    "then normal data\n",
    "\n",
    "then boundbox data\n",
    "\n",
    "then face vector index\n",
    "\n",
    "then uv data"
   ]
  },
  {
   "cell_type": "code",
   "execution_count": 1,
   "metadata": {},
   "outputs": [
    {
     "data": {
      "application/vnd.jupyter.widget-view+json": {
       "model_id": "d212e8f3188c438ea38273b6e1aa6ad7",
       "version_major": 2,
       "version_minor": 0
      },
      "text/plain": [
       "VBox(children=(HBox(children=(Button(description='Open obj', icon='check', style=ButtonStyle(), tooltip='open …"
      ]
     },
     "metadata": {},
     "output_type": "display_data"
    }
   ],
   "source": [
    "import objConv\n",
    "conv= objConv.objConvert()\n"
   ]
  },
  {
   "cell_type": "markdown",
   "metadata": {},
   "source": [
    "### Image convertor for texture, only indexed PNG type file supported\n",
    "\n",
    "A bin file would also created. \n",
    "\n",
    "the first 2 bytes are lut type: 8888 is 0, 4444 is 1 \n",
    "\n",
    "the second 2 bytes are lut length marker: 4 colors for 0, 16 colors for 1, 256 colors for 2\n",
    "\n",
    "then 2 bytes for x 2 bytes for y\n",
    "\n",
    "Then LUT data\n",
    "\n",
    "Then Image data"
   ]
  },
  {
   "cell_type": "code",
   "execution_count": 22,
   "metadata": {},
   "outputs": [
    {
     "data": {
      "application/vnd.jupyter.widget-view+json": {
       "model_id": "89edfdf3a37f4c3ab775aa6d3f0e886a",
       "version_major": 2,
       "version_minor": 0
      },
      "text/plain": [
       "VBox(children=(HBox(children=(Button(description='Open png', icon='check', style=ButtonStyle(), tooltip='open …"
      ]
     },
     "metadata": {},
     "output_type": "display_data"
    }
   ],
   "source": [
    "import imgConv\n",
    "imgConv = imgConv.imgConvert()"
   ]
  }
 ],
 "metadata": {
  "kernelspec": {
   "display_name": "Python 3",
   "language": "python",
   "name": "python3"
  },
  "language_info": {
   "codemirror_mode": {
    "name": "ipython",
    "version": 3
   },
   "file_extension": ".py",
   "mimetype": "text/x-python",
   "name": "python",
   "nbconvert_exporter": "python",
   "pygments_lexer": "ipython3",
   "version": "3.6.5"
  }
 },
 "nbformat": 4,
 "nbformat_minor": 2
}
